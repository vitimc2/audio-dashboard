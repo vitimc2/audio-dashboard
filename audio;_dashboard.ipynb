{
  "nbformat": 4,
  "nbformat_minor": 0,
  "metadata": {
    "colab": {
      "provenance": [],
      "collapsed_sections": [],
      "include_colab_link": true
    },
    "kernelspec": {
      "name": "python3",
      "display_name": "Python 3"
    },
    "language_info": {
      "name": "python"
    }
  },
  "cells": [
    {
      "cell_type": "markdown",
      "metadata": {
        "id": "view-in-github",
        "colab_type": "text"
      },
      "source": [
        "<a href=\"https://colab.research.google.com/github/vitimc2/audio-dashboard/blob/main/audio%3B_dashboard.ipynb\" target=\"_parent\"><img src=\"https://colab.research.google.com/assets/colab-badge.svg\" alt=\"Open In Colab\"/></a>"
      ]
    },
    {
      "cell_type": "code",
      "source": [
        "!apt install libasound2-dev portaudio19-dev libportaudio2 libportaudiocpp0 ffmpeg\n"
      ],
      "metadata": {
        "colab": {
          "base_uri": "https://localhost:8080/"
        },
        "id": "3G4TimTSftpN",
        "outputId": "fc38c56a-b1d7-45db-d308-f67d3c194c88"
      },
      "execution_count": 1,
      "outputs": [
        {
          "output_type": "stream",
          "name": "stdout",
          "text": [
            "Reading package lists... Done\n",
            "Building dependency tree       \n",
            "Reading state information... Done\n",
            "libportaudio2 is already the newest version (19.6.0-1).\n",
            "libportaudiocpp0 is already the newest version (19.6.0-1).\n",
            "portaudio19-dev is already the newest version (19.6.0-1).\n",
            "libasound2-dev is already the newest version (1.1.3-5ubuntu0.6).\n",
            "ffmpeg is already the newest version (7:3.4.11-0ubuntu0.1).\n",
            "The following package was automatically installed and is no longer required:\n",
            "  libnvidia-common-460\n",
            "Use 'apt autoremove' to remove it.\n",
            "0 upgraded, 0 newly installed, 0 to remove and 27 not upgraded.\n"
          ]
        }
      ]
    },
    {
      "cell_type": "code",
      "source": [
        "!pip install ffmpeg-python"
      ],
      "metadata": {
        "colab": {
          "base_uri": "https://localhost:8080/"
        },
        "id": "z7C0BaD0yTHG",
        "outputId": "588edf1d-60bc-4e87-e3ef-b09b8af22602"
      },
      "execution_count": 2,
      "outputs": [
        {
          "output_type": "stream",
          "name": "stdout",
          "text": [
            "Looking in indexes: https://pypi.org/simple, https://us-python.pkg.dev/colab-wheels/public/simple/\n",
            "Requirement already satisfied: ffmpeg-python in /usr/local/lib/python3.7/dist-packages (0.2.0)\n",
            "Requirement already satisfied: future in /usr/local/lib/python3.7/dist-packages (from ffmpeg-python) (0.16.0)\n"
          ]
        }
      ]
    },
    {
      "cell_type": "code",
      "source": [
        "!pip install PyAudio"
      ],
      "metadata": {
        "colab": {
          "base_uri": "https://localhost:8080/"
        },
        "id": "T6kJCPYhehfK",
        "outputId": "4d96ef34-55e6-4504-faf2-9b396c3cdc0a"
      },
      "execution_count": 3,
      "outputs": [
        {
          "output_type": "stream",
          "name": "stdout",
          "text": [
            "Looking in indexes: https://pypi.org/simple, https://us-python.pkg.dev/colab-wheels/public/simple/\n",
            "Requirement already satisfied: PyAudio in /usr/local/lib/python3.7/dist-packages (0.2.12)\n"
          ]
        }
      ]
    },
    {
      "cell_type": "code",
      "source": [
        "!pip install SpeechRecognition\n"
      ],
      "metadata": {
        "colab": {
          "base_uri": "https://localhost:8080/"
        },
        "id": "kvwl94tadrYz",
        "outputId": "fb046858-0c2f-43a7-9e06-e1d7dc6d6be4"
      },
      "execution_count": 4,
      "outputs": [
        {
          "output_type": "stream",
          "name": "stdout",
          "text": [
            "Looking in indexes: https://pypi.org/simple, https://us-python.pkg.dev/colab-wheels/public/simple/\n",
            "Requirement already satisfied: SpeechRecognition in /usr/local/lib/python3.7/dist-packages (3.8.1)\n"
          ]
        }
      ]
    },
    {
      "cell_type": "code",
      "source": [
        "!pip install gTTS"
      ],
      "metadata": {
        "colab": {
          "base_uri": "https://localhost:8080/"
        },
        "id": "rpu5VPiCZ6Vc",
        "outputId": "65ff657b-0006-43f6-8bab-7729faaa13cb"
      },
      "execution_count": 5,
      "outputs": [
        {
          "output_type": "stream",
          "name": "stdout",
          "text": [
            "Looking in indexes: https://pypi.org/simple, https://us-python.pkg.dev/colab-wheels/public/simple/\n",
            "Requirement already satisfied: gTTS in /usr/local/lib/python3.7/dist-packages (2.2.4)\n",
            "Requirement already satisfied: requests in /usr/local/lib/python3.7/dist-packages (from gTTS) (2.23.0)\n",
            "Requirement already satisfied: click in /usr/local/lib/python3.7/dist-packages (from gTTS) (7.1.2)\n",
            "Requirement already satisfied: six in /usr/local/lib/python3.7/dist-packages (from gTTS) (1.15.0)\n",
            "Requirement already satisfied: certifi>=2017.4.17 in /usr/local/lib/python3.7/dist-packages (from requests->gTTS) (2022.9.24)\n",
            "Requirement already satisfied: idna<3,>=2.5 in /usr/local/lib/python3.7/dist-packages (from requests->gTTS) (2.10)\n",
            "Requirement already satisfied: urllib3!=1.25.0,!=1.25.1,<1.26,>=1.21.1 in /usr/local/lib/python3.7/dist-packages (from requests->gTTS) (1.24.3)\n",
            "Requirement already satisfied: chardet<4,>=3.0.2 in /usr/local/lib/python3.7/dist-packages (from requests->gTTS) (3.0.4)\n"
          ]
        }
      ]
    },
    {
      "cell_type": "markdown",
      "source": [
        "Faz o download do banco de dados"
      ],
      "metadata": {
        "id": "TrhPnxT0cDO5"
      }
    },
    {
      "cell_type": "code",
      "source": [
        "!wget --no-check-certificate 'https://docs.google.com/uc?export=download&id=1VPmgT3hvHtQxxcLqWA4l2Hdwa6xLOC46' -O /content/ey_dio.db\n",
        "!chmod 777 /content/ey_dio.db"
      ],
      "metadata": {
        "colab": {
          "base_uri": "https://localhost:8080/"
        },
        "id": "l9LbQdyqGoiu",
        "outputId": "3a9f6d44-4ff7-46ad-e79c-500b7e4c4114"
      },
      "execution_count": 6,
      "outputs": [
        {
          "output_type": "stream",
          "name": "stdout",
          "text": [
            "--2022-10-24 01:54:17--  https://docs.google.com/uc?export=download&id=1VPmgT3hvHtQxxcLqWA4l2Hdwa6xLOC46\n",
            "Resolving docs.google.com (docs.google.com)... 142.251.16.102, 142.251.16.138, 142.251.16.100, ...\n",
            "Connecting to docs.google.com (docs.google.com)|142.251.16.102|:443... connected.\n",
            "HTTP request sent, awaiting response... 303 See Other\n",
            "Location: https://doc-04-bc-docs.googleusercontent.com/docs/securesc/ha0ro937gcuc7l7deffksulhg5h7mbp1/kbo6bhq0dbc09ea5f52su0dmvpi0lovl/1666576425000/06981639974565349704/*/1VPmgT3hvHtQxxcLqWA4l2Hdwa6xLOC46?e=download&uuid=ffe67018-b64a-4ef4-a2ed-029e06fad15b [following]\n",
            "Warning: wildcards not supported in HTTP.\n",
            "--2022-10-24 01:54:18--  https://doc-04-bc-docs.googleusercontent.com/docs/securesc/ha0ro937gcuc7l7deffksulhg5h7mbp1/kbo6bhq0dbc09ea5f52su0dmvpi0lovl/1666576425000/06981639974565349704/*/1VPmgT3hvHtQxxcLqWA4l2Hdwa6xLOC46?e=download&uuid=ffe67018-b64a-4ef4-a2ed-029e06fad15b\n",
            "Resolving doc-04-bc-docs.googleusercontent.com (doc-04-bc-docs.googleusercontent.com)... 142.251.45.97, 2607:f8b0:4004:83f::2001\n",
            "Connecting to doc-04-bc-docs.googleusercontent.com (doc-04-bc-docs.googleusercontent.com)|142.251.45.97|:443... connected.\n",
            "HTTP request sent, awaiting response... 200 OK\n",
            "Length: 32768 (32K) [application/octet-stream]\n",
            "Saving to: ‘/content/ey_dio.db’\n",
            "\n",
            "/content/ey_dio.db  100%[===================>]  32.00K  --.-KB/s    in 0s      \n",
            "\n",
            "2022-10-24 01:54:18 (99.8 MB/s) - ‘/content/ey_dio.db’ saved [32768/32768]\n",
            "\n"
          ]
        }
      ]
    },
    {
      "cell_type": "markdown",
      "source": [
        "Importa o SQLite e criar as funções para fazer as consultas"
      ],
      "metadata": {
        "id": "S0sf3kutcNdW"
      }
    },
    {
      "cell_type": "code",
      "source": [
        "import sqlite3\n",
        "from sqlite3 import Error\n",
        "\n",
        "def create_connection(db_file):\n",
        "    conn = None\n",
        "    try:\n",
        "        conn = sqlite3.connect(db_file)\n",
        "\n",
        "        return conn\n",
        "    except Error as e:\n",
        "        print(e)\n",
        "\n",
        "dbConnection = create_connection(\"/content/ey_dio.db\")\n",
        "\n",
        "def get_total_vendas(conn):\n",
        "    c = conn.cursor()\n",
        "    c.execute(\"select sum(total) as total from pedidos\")\n",
        "    row = c.fetchone()\n",
        "    return row[0]\n",
        "\n",
        "def get_valo_medio_de_venda(conn):\n",
        "    c = conn.cursor()\n",
        "    c.execute(\"select avg(total) as total from pedidos\")\n",
        "    row = c.fetchone()\n",
        "    return row[0]\n",
        "\n",
        "def get_produto_mais_vendido(conn):\n",
        "    c = conn.cursor()\n",
        "    c.execute(\"\"\"select pr.descricao, count(*) as qt_vendida, sum(it.total) as vr_total\n",
        "                 from pedidos p\n",
        "                   inner join pedido_itens it on it.id_pedido = p.id\n",
        "                   inner join produtos pr on pr.id = it.id_produto\n",
        "                 group by pr.descricao  \n",
        "                 order by 2 desc  \n",
        "                 limit 1 \"\"\")\n",
        "    row = c.fetchone()\n",
        "    return {\n",
        "      \"produto\": row[0],\n",
        "      \"qt_vendida\": row[1],\n",
        "      \"vr_total\": row[2]}\n",
        "\n",
        "def get_cliente_mais_compras(conn):\n",
        "    c = conn.cursor()\n",
        "    c.execute(\"\"\"select c.nome, count(*) as qt_vendas, sum(p.total) as vr_total\n",
        "                 from pedidos p\n",
        "                   inner join clientes c on c.id = p.id_cliente\n",
        "                 group by c.nome\n",
        "                 order by 2 desc  \n",
        "                 limit 1\n",
        "                 \"\"\")\n",
        "    row = c.fetchone()\n",
        "    return {\n",
        "      \"cliente\": row[0],\n",
        "      \"qt_vendas\": row[1],\n",
        "      \"vr_total\": row[2]}\n",
        "\n",
        "def get_resumo_vendas(conn):\n",
        "    c = conn.cursor()\n",
        "    c.execute(\"\"\"select count(*) as qt_vendas,\n",
        "                        sum(p.total) as vr_total,\n",
        "                        avg(p.total) as vr_medio,\n",
        "                        min(p.total) as menor_pedido,\n",
        "                        max(p.total) as maior_pedido\n",
        "                 from pedidos p\n",
        "                 \"\"\")\n",
        "    row = c.fetchone()\n",
        "    return {\n",
        "      \"qt_vendas\": row[0],\n",
        "      \"vr_total\": row[1],\n",
        "      \"vr_medio\": row[2],\n",
        "      \"menor_pedido\": row[3],\n",
        "      \"maior_pedido\": row[4]}"
      ],
      "metadata": {
        "id": "lGc49ylMJq-3"
      },
      "execution_count": 7,
      "outputs": []
    },
    {
      "cell_type": "markdown",
      "source": [
        "Código necessário para a captura do audio em JS\n",
        "Cria a função para gravar o audio e retornar para o colab"
      ],
      "metadata": {
        "id": "3YXnKznScaNk"
      }
    },
    {
      "cell_type": "code",
      "source": [
        "from IPython.display import HTML, Audio\n",
        "from google.colab.output import eval_js\n",
        "from base64 import b64decode\n",
        "import io\n",
        "import ffmpeg\n",
        "import time\n",
        "\n",
        "AUDIO_HTML = \"\"\"\n",
        "<script>\n",
        "var my_div = document.createElement(\"DIV\");\n",
        "var my_btn = document.createElement(\"BUTTON\");\n",
        "var t = document.createTextNode(\"Press to start recording\");\n",
        "\n",
        "my_btn.appendChild(t);\n",
        "my_div.appendChild(my_btn);\n",
        "document.body.appendChild(my_div);\n",
        "\n",
        "var base64data = 0;\n",
        "var reader;\n",
        "var recorder, gumStream;\n",
        "var recordButton = my_btn;\n",
        "\n",
        "var handleSuccess = function(stream) {\n",
        "  gumStream = stream;\n",
        "  recorder = new MediaRecorder(stream);\n",
        "  recorder.ondataavailable = function(e) {\n",
        "    var url = URL.createObjectURL(e.data);\n",
        "    var preview = document.createElement('audio');\n",
        "    preview.controls = true;\n",
        "    preview.src = url;\n",
        "    document.body.appendChild(preview);\n",
        "\n",
        "    reader = new FileReader();\n",
        "    reader.readAsDataURL(e.data); \n",
        "    reader.onloadend = function() {\n",
        "      base64data = reader.result;\n",
        "    }\n",
        "  };\n",
        "  recorder.start();\n",
        "  };\n",
        "\n",
        "navigator.mediaDevices.getUserMedia({audio: true}).then(handleSuccess);\n",
        "recordButton.innerText = \"Aguardando comando... click aqui para processar o comando\";\n",
        "\n",
        "function toggleRecording() {\n",
        "  if (recorder && recorder.state == \"recording\") {\n",
        "      recorder.stop();\n",
        "      gumStream.getAudioTracks()[0].stop();\n",
        "      recordButton.innerText = \"Aguarde comando em processamento....\"\n",
        "  }\n",
        "}\n",
        "\n",
        "function sleep(ms) {\n",
        "  return new Promise(resolve => setTimeout(resolve, ms));\n",
        "}\n",
        "\n",
        "var data = new Promise(resolve=>{\n",
        "  recordButton.onclick = ()=>{\n",
        "    toggleRecording()\n",
        "\n",
        "    sleep(2000).then(() => {\n",
        "      resolve(base64data.toString())\n",
        "    });\n",
        "\n",
        "  }\n",
        "});\n",
        "      \n",
        "</script>\n",
        "\"\"\"\n",
        "\n",
        "def get_audio():\n",
        "  display(HTML(AUDIO_HTML))\n",
        "  data = eval_js(\"data\")\n",
        "  binary = b64decode(data.split(',')[1])\n",
        "  \n",
        "  process = (ffmpeg\n",
        "    .input('pipe:0')\n",
        "    .output('pipe:1', format='wav')\n",
        "    .run_async(pipe_stdin=True, pipe_stdout=True, pipe_stderr=True, quiet=True, overwrite_output=True)\n",
        "  )\n",
        "  output, err = process.communicate(input=binary)\n",
        "  time.sleep(1)\n",
        "\n",
        "  return output"
      ],
      "metadata": {
        "id": "J-O-Rr8d2-CI"
      },
      "execution_count": 8,
      "outputs": []
    },
    {
      "cell_type": "markdown",
      "source": [
        "Cria a função que vai \"falar\" as respotas para os comandos solicitados para o dashboard"
      ],
      "metadata": {
        "id": "wE10L4zPczP8"
      }
    },
    {
      "cell_type": "code",
      "source": [
        "import uuid\n",
        "from gtts import gTTS\n",
        "\n",
        "def responder(resposta: str):\n",
        "  language = \"pt\"\n",
        "  gtts_object = gTTS(text = resposta, \n",
        "                    lang = language,\n",
        "                    slow = False)\n",
        "  fileName = \"/tmp/\"+str(uuid.uuid4())+\".wav\"\n",
        "  gtts_object.save(fileName)\n",
        "  return fileName"
      ],
      "metadata": {
        "id": "UOgygpANaPRd"
      },
      "execution_count": 9,
      "outputs": []
    },
    {
      "cell_type": "code",
      "source": [
        "import locale\n",
        "def moeda(valor):\n",
        "    locale.setlocale(locale.LC_MONETARY, 'en_US.UTF-8')\n",
        "    valor = locale.currency(valor, grouping=True, symbol=None)\n",
        "    return valor\n"
      ],
      "metadata": {
        "id": "Jf4sdlPrd_s9"
      },
      "execution_count": 10,
      "outputs": []
    },
    {
      "cell_type": "markdown",
      "source": [
        "Cria a  função para avaliar o comando e executa o código de reconhecimento e dar a informação solicitada pelo cliente."
      ],
      "metadata": {
        "id": "Q9DxFJLatLyc"
      }
    },
    {
      "cell_type": "code",
      "execution_count": 14,
      "metadata": {
        "id": "pSIHSXTtleaQ",
        "colab": {
          "base_uri": "https://localhost:8080/",
          "height": 172
        },
        "outputId": "e5bdb5a2-45b6-4492-95eb-e5a83ffae508"
      },
      "outputs": [
        {
          "output_type": "display_data",
          "data": {
            "text/plain": [
              "<IPython.core.display.HTML object>"
            ],
            "text/html": [
              "\n",
              "<script>\n",
              "var my_div = document.createElement(\"DIV\");\n",
              "var my_btn = document.createElement(\"BUTTON\");\n",
              "var t = document.createTextNode(\"Press to start recording\");\n",
              "\n",
              "my_btn.appendChild(t);\n",
              "my_div.appendChild(my_btn);\n",
              "document.body.appendChild(my_div);\n",
              "\n",
              "var base64data = 0;\n",
              "var reader;\n",
              "var recorder, gumStream;\n",
              "var recordButton = my_btn;\n",
              "\n",
              "var handleSuccess = function(stream) {\n",
              "  gumStream = stream;\n",
              "  recorder = new MediaRecorder(stream);\n",
              "  recorder.ondataavailable = function(e) {\n",
              "    var url = URL.createObjectURL(e.data);\n",
              "    var preview = document.createElement('audio');\n",
              "    preview.controls = true;\n",
              "    preview.src = url;\n",
              "    document.body.appendChild(preview);\n",
              "\n",
              "    reader = new FileReader();\n",
              "    reader.readAsDataURL(e.data); \n",
              "    reader.onloadend = function() {\n",
              "      base64data = reader.result;\n",
              "    }\n",
              "  };\n",
              "  recorder.start();\n",
              "  };\n",
              "\n",
              "navigator.mediaDevices.getUserMedia({audio: true}).then(handleSuccess);\n",
              "recordButton.innerText = \"Aguardando comando... click aqui para processar o comando\";\n",
              "\n",
              "function toggleRecording() {\n",
              "  if (recorder && recorder.state == \"recording\") {\n",
              "      recorder.stop();\n",
              "      gumStream.getAudioTracks()[0].stop();\n",
              "      recordButton.innerText = \"Aguarde comando em processamento....\"\n",
              "  }\n",
              "}\n",
              "\n",
              "function sleep(ms) {\n",
              "  return new Promise(resolve => setTimeout(resolve, ms));\n",
              "}\n",
              "\n",
              "var data = new Promise(resolve=>{\n",
              "  recordButton.onclick = ()=>{\n",
              "    toggleRecording()\n",
              "\n",
              "    sleep(2000).then(() => {\n",
              "      resolve(base64data.toString())\n",
              "    });\n",
              "\n",
              "  }\n",
              "});\n",
              "      \n",
              "</script>\n"
            ]
          },
          "metadata": {}
        },
        {
          "output_type": "stream",
          "name": "stdout",
          "text": [
            "Você disse: saber qual foi o produto mais vendido\n"
          ]
        },
        {
          "output_type": "execute_result",
          "data": {
            "text/plain": [
              "<IPython.lib.display.Audio object>"
            ],
            "text/html": [
              "\n",
              "                <audio  controls=\"controls\" autoplay=\"autoplay\">\n",
              "                    <source src=\"data:audio/x-wav;base64,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\" type=\"audio/x-wav\" />\n",
              "                    Your browser does not support the audio element.\n",
              "                </audio>\n",
              "              "
            ]
          },
          "metadata": {},
          "execution_count": 14
        }
      ],
      "source": [
        "import speech_recognition as sr\n",
        "\n",
        "#Função para identificar o comando de voz\n",
        "def avaliar_comando(wav: any):\n",
        "    #Habilita o microfone do usuário\n",
        "    recognizer = sr.Recognizer()\n",
        "        \n",
        "    try:\n",
        "        #cria um AudioDAta com um WAV\n",
        "        audio = sr.AudioData(wav, 44000, 2)\n",
        "        \n",
        "        #Passa a variável para o algoritmo reconhecedor de padroes\n",
        "        frase = recognizer.recognize_google(audio,language='pt-BR')\n",
        "\n",
        "        #Retorna a frase pronunciada\n",
        "        print(\"Você disse: \" + frase)\n",
        "\n",
        "        if \"total\" in frase and \"vendas\" in frase:\n",
        "            return \"O valor total das vendas foi de R$\" + moeda(get_total_vendas(dbConnection))\n",
        "\n",
        "        if \"valor\" in frase and (\"medio\" in frase or \"médio\" in frase):\n",
        "            return \"O valor médio das vendas foi de R$\" + moeda(get_valo_medio_de_venda(dbConnection))\n",
        "\n",
        "        if \"produto\" in frase and (\"vendido\" in frase or \"vendas\" in frase):\n",
        "            resProd = get_produto_mais_vendido(dbConnection)\n",
        "            return \"O produto mais vendido foi \" + resProd[\"produto\"] + \" com \" + str(resProd[\"qt_vendida\"]) + \" unidades vendidas, somando um valor de R$\" + moeda(resProd[\"vr_total\"])\n",
        "\n",
        "        if \"cliente\" in frase and (\"comprou\" in frase or \"compra\" in frase or \"melhor\" in frase):\n",
        "            resCli = get_cliente_mais_compras(dbConnection)\n",
        "            return \"O cliente que mais comprou foi \" + resCli[\"cliente\"] + \" com \" + str(resCli[\"qt_vendas\"]) + \" compras realizadas, somando um total de R$\" + moeda(resCli[\"vr_total\"])\n",
        "\n",
        "        if \"resumo\" in frase and \"vendas\" in frase:\n",
        "            resVendas = get_resumo_vendas(dbConnection)\n",
        "            return \"Foram realizadas \"+str(resVendas[\"qt_vendas\"])+\" vendas totalizando R$\"+ moeda(resVendas[\"vr_total\"]) + \", o valor médio das vendas foi de R$\"+moeda(resVendas[\"vr_medio\"])+\", o maior valor de uma venda foi de R$\"+moeda(resVendas[\"maior_pedido\"])+\" e o menor valor de uma venda R$\"+moeda(resVendas[\"menor_pedido\"])\n",
        "\n",
        "        \n",
        "    #Se nao reconheceu o padrao de fala, exibe a mensagem\n",
        "    except sr.UnknownValueError:\n",
        "        return \"Ocorreu um erro inesperado ao processar a solicitação\"\n",
        "        \n",
        "    return \"Não entendi\"\n",
        "\n",
        "audio = get_audio()\n",
        "\n",
        "resposta = avaliar_comando(audio)\n",
        "\n",
        "audioResposta = responder(resposta)\n",
        "\n",
        "Audio(audioResposta, autoplay=True)\n"
      ]
    }
  ]
}